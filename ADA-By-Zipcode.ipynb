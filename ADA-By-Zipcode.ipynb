{
 "cells": [
  {
   "cell_type": "code",
   "execution_count": 1,
   "id": "a29e45de-9c68-448e-95a6-f0eea0563d5b",
   "metadata": {
    "tags": []
   },
   "outputs": [
    {
     "name": "stdout",
     "output_type": "stream",
     "text": [
      "Defaulting to user installation because normal site-packages is not writeable\n",
      "Requirement already satisfied: pandas in /home/jupyter-user-6/.local/lib/python3.10/site-packages (2.2.2)\n",
      "Requirement already satisfied: numpy>=1.22.4 in /home/jupyter-user-6/.local/lib/python3.10/site-packages (from pandas) (1.26.4)\n",
      "Requirement already satisfied: python-dateutil>=2.8.2 in /opt/tljh/user/lib/python3.10/site-packages (from pandas) (2.8.2)\n",
      "Requirement already satisfied: pytz>=2020.1 in /opt/tljh/user/lib/python3.10/site-packages (from pandas) (2023.3.post1)\n",
      "Requirement already satisfied: tzdata>=2022.7 in /home/jupyter-user-6/.local/lib/python3.10/site-packages (from pandas) (2024.1)\n",
      "Requirement already satisfied: six>=1.5 in /opt/tljh/user/lib/python3.10/site-packages (from python-dateutil>=2.8.2->pandas) (1.16.0)\n"
     ]
    }
   ],
   "source": [
    "!pip install pandas"
   ]
  },
  {
   "cell_type": "code",
   "execution_count": 2,
   "id": "f47eedff-630b-496d-92a9-8d2ea54c811a",
   "metadata": {
    "tags": []
   },
   "outputs": [],
   "source": [
    "import pandas as pd"
   ]
  },
  {
   "cell_type": "code",
   "execution_count": 3,
   "id": "c9ac4140-cefc-48bc-8b5e-90fb30e03442",
   "metadata": {
    "tags": []
   },
   "outputs": [],
   "source": [
    "df = pd.read_csv('/srv/data/shared_documents/Team-9/Student_ADA_Yearly_Zipcode-2.csv', delimiter=';', on_bad_lines = 'warn')"
   ]
  },
  {
   "cell_type": "code",
   "execution_count": 4,
   "id": "8889d99b-11e6-44c4-a991-a05f626028b1",
   "metadata": {},
   "outputs": [
    {
     "data": {
      "text/html": [
       "<div>\n",
       "<style scoped>\n",
       "    .dataframe tbody tr th:only-of-type {\n",
       "        vertical-align: middle;\n",
       "    }\n",
       "\n",
       "    .dataframe tbody tr th {\n",
       "        vertical-align: top;\n",
       "    }\n",
       "\n",
       "    .dataframe thead th {\n",
       "        text-align: right;\n",
       "    }\n",
       "</style>\n",
       "<table border=\"1\" class=\"dataframe\">\n",
       "  <thead>\n",
       "    <tr style=\"text-align: right;\">\n",
       "      <th></th>\n",
       "      <th>School Year</th>\n",
       "      <th>Sector</th>\n",
       "      <th>ULCS Code</th>\n",
       "      <th>School Name</th>\n",
       "      <th>Average Daily Attendance (YTD)</th>\n",
       "      <th>Zip Code</th>\n",
       "    </tr>\n",
       "  </thead>\n",
       "  <tbody>\n",
       "    <tr>\n",
       "      <th>0</th>\n",
       "      <td>2021-2022</td>\n",
       "      <td>District</td>\n",
       "      <td>5020</td>\n",
       "      <td>Thomas A. Edison High School</td>\n",
       "      <td>68,85</td>\n",
       "      <td>NaN</td>\n",
       "    </tr>\n",
       "    <tr>\n",
       "      <th>1</th>\n",
       "      <td>2022-2023</td>\n",
       "      <td>District</td>\n",
       "      <td>5020</td>\n",
       "      <td>Thomas A. Edison High School</td>\n",
       "      <td>72,64</td>\n",
       "      <td>19140.0</td>\n",
       "    </tr>\n",
       "    <tr>\n",
       "      <th>2</th>\n",
       "      <td>2021-2022</td>\n",
       "      <td>District</td>\n",
       "      <td>2000</td>\n",
       "      <td>South Philadelphia High School</td>\n",
       "      <td>72,97</td>\n",
       "      <td>NaN</td>\n",
       "    </tr>\n",
       "    <tr>\n",
       "      <th>3</th>\n",
       "      <td>2021-2022</td>\n",
       "      <td>District</td>\n",
       "      <td>6060</td>\n",
       "      <td>Martin Luther King High School</td>\n",
       "      <td>73,37</td>\n",
       "      <td>NaN</td>\n",
       "    </tr>\n",
       "    <tr>\n",
       "      <th>4</th>\n",
       "      <td>2021-2022</td>\n",
       "      <td>District</td>\n",
       "      <td>2010</td>\n",
       "      <td>Benjamin Franklin High School</td>\n",
       "      <td>73,48</td>\n",
       "      <td>NaN</td>\n",
       "    </tr>\n",
       "  </tbody>\n",
       "</table>\n",
       "</div>"
      ],
      "text/plain": [
       "  School Year    Sector  ULCS Code                     School Name  \\\n",
       "0   2021-2022  District       5020    Thomas A. Edison High School   \n",
       "1   2022-2023  District       5020    Thomas A. Edison High School   \n",
       "2   2021-2022  District       2000  South Philadelphia High School   \n",
       "3   2021-2022  District       6060  Martin Luther King High School   \n",
       "4   2021-2022  District       2010   Benjamin Franklin High School   \n",
       "\n",
       "  Average Daily Attendance (YTD)  Zip Code  \n",
       "0                          68,85       NaN  \n",
       "1                          72,64   19140.0  \n",
       "2                          72,97       NaN  \n",
       "3                          73,37       NaN  \n",
       "4                          73,48       NaN  "
      ]
     },
     "execution_count": 4,
     "metadata": {},
     "output_type": "execute_result"
    }
   ],
   "source": [
    "df.head()"
   ]
  },
  {
   "cell_type": "code",
   "execution_count": 5,
   "id": "2b499dce-2b87-4616-af63-be03599ea384",
   "metadata": {},
   "outputs": [],
   "source": [
    "df['Average Daily Attendance (YTD)'] = df['Average Daily Attendance (YTD)'].str.replace(',', '.').astype(float)"
   ]
  },
  {
   "cell_type": "code",
   "execution_count": 6,
   "id": "328739a9-9450-4081-b7d5-a009058fa066",
   "metadata": {
    "tags": []
   },
   "outputs": [
    {
     "data": {
      "text/html": [
       "<div>\n",
       "<style scoped>\n",
       "    .dataframe tbody tr th:only-of-type {\n",
       "        vertical-align: middle;\n",
       "    }\n",
       "\n",
       "    .dataframe tbody tr th {\n",
       "        vertical-align: top;\n",
       "    }\n",
       "\n",
       "    .dataframe thead th {\n",
       "        text-align: right;\n",
       "    }\n",
       "</style>\n",
       "<table border=\"1\" class=\"dataframe\">\n",
       "  <thead>\n",
       "    <tr style=\"text-align: right;\">\n",
       "      <th></th>\n",
       "      <th>School Year</th>\n",
       "      <th>Sector</th>\n",
       "      <th>ULCS Code</th>\n",
       "      <th>School Name</th>\n",
       "      <th>Average Daily Attendance (YTD)</th>\n",
       "      <th>Zip Code</th>\n",
       "    </tr>\n",
       "  </thead>\n",
       "  <tbody>\n",
       "    <tr>\n",
       "      <th>0</th>\n",
       "      <td>2021-2022</td>\n",
       "      <td>District</td>\n",
       "      <td>5020</td>\n",
       "      <td>Thomas A. Edison High School</td>\n",
       "      <td>68.85</td>\n",
       "      <td>NaN</td>\n",
       "    </tr>\n",
       "    <tr>\n",
       "      <th>1</th>\n",
       "      <td>2022-2023</td>\n",
       "      <td>District</td>\n",
       "      <td>5020</td>\n",
       "      <td>Thomas A. Edison High School</td>\n",
       "      <td>72.64</td>\n",
       "      <td>19140.0</td>\n",
       "    </tr>\n",
       "    <tr>\n",
       "      <th>2</th>\n",
       "      <td>2021-2022</td>\n",
       "      <td>District</td>\n",
       "      <td>2000</td>\n",
       "      <td>South Philadelphia High School</td>\n",
       "      <td>72.97</td>\n",
       "      <td>NaN</td>\n",
       "    </tr>\n",
       "    <tr>\n",
       "      <th>3</th>\n",
       "      <td>2021-2022</td>\n",
       "      <td>District</td>\n",
       "      <td>6060</td>\n",
       "      <td>Martin Luther King High School</td>\n",
       "      <td>73.37</td>\n",
       "      <td>NaN</td>\n",
       "    </tr>\n",
       "    <tr>\n",
       "      <th>4</th>\n",
       "      <td>2021-2022</td>\n",
       "      <td>District</td>\n",
       "      <td>2010</td>\n",
       "      <td>Benjamin Franklin High School</td>\n",
       "      <td>73.48</td>\n",
       "      <td>NaN</td>\n",
       "    </tr>\n",
       "  </tbody>\n",
       "</table>\n",
       "</div>"
      ],
      "text/plain": [
       "  School Year    Sector  ULCS Code                     School Name  \\\n",
       "0   2021-2022  District       5020    Thomas A. Edison High School   \n",
       "1   2022-2023  District       5020    Thomas A. Edison High School   \n",
       "2   2021-2022  District       2000  South Philadelphia High School   \n",
       "3   2021-2022  District       6060  Martin Luther King High School   \n",
       "4   2021-2022  District       2010   Benjamin Franklin High School   \n",
       "\n",
       "   Average Daily Attendance (YTD)  Zip Code  \n",
       "0                           68.85       NaN  \n",
       "1                           72.64   19140.0  \n",
       "2                           72.97       NaN  \n",
       "3                           73.37       NaN  \n",
       "4                           73.48       NaN  "
      ]
     },
     "execution_count": 6,
     "metadata": {},
     "output_type": "execute_result"
    }
   ],
   "source": [
    "df.head()"
   ]
  },
  {
   "cell_type": "code",
   "execution_count": 7,
   "id": "f44c2d99-0651-4af7-b7ad-49a820b472ae",
   "metadata": {
    "tags": []
   },
   "outputs": [
    {
     "data": {
      "text/html": [
       "<div>\n",
       "<style scoped>\n",
       "    .dataframe tbody tr th:only-of-type {\n",
       "        vertical-align: middle;\n",
       "    }\n",
       "\n",
       "    .dataframe tbody tr th {\n",
       "        vertical-align: top;\n",
       "    }\n",
       "\n",
       "    .dataframe thead th {\n",
       "        text-align: right;\n",
       "    }\n",
       "</style>\n",
       "<table border=\"1\" class=\"dataframe\">\n",
       "  <thead>\n",
       "    <tr style=\"text-align: right;\">\n",
       "      <th></th>\n",
       "      <th>School Year</th>\n",
       "      <th>Sector</th>\n",
       "      <th>ULCS Code</th>\n",
       "      <th>School Name</th>\n",
       "      <th>Average Daily Attendance (YTD)</th>\n",
       "      <th>Zip Code</th>\n",
       "    </tr>\n",
       "  </thead>\n",
       "  <tbody>\n",
       "    <tr>\n",
       "      <th>1</th>\n",
       "      <td>2022-2023</td>\n",
       "      <td>District</td>\n",
       "      <td>5020</td>\n",
       "      <td>Thomas A. Edison High School</td>\n",
       "      <td>72.64</td>\n",
       "      <td>19140.0</td>\n",
       "    </tr>\n",
       "    <tr>\n",
       "      <th>11</th>\n",
       "      <td>2022-2023</td>\n",
       "      <td>District</td>\n",
       "      <td>4140</td>\n",
       "      <td>Strawberry Mansion High School</td>\n",
       "      <td>75.02</td>\n",
       "      <td>19121.0</td>\n",
       "    </tr>\n",
       "    <tr>\n",
       "      <th>14</th>\n",
       "      <td>2022-2023</td>\n",
       "      <td>District</td>\n",
       "      <td>5700</td>\n",
       "      <td>Kensington High School</td>\n",
       "      <td>75.40</td>\n",
       "      <td>19125.0</td>\n",
       "    </tr>\n",
       "    <tr>\n",
       "      <th>15</th>\n",
       "      <td>2022-2023</td>\n",
       "      <td>District</td>\n",
       "      <td>4020</td>\n",
       "      <td>Overbrook High School</td>\n",
       "      <td>76.18</td>\n",
       "      <td>19131.0</td>\n",
       "    </tr>\n",
       "    <tr>\n",
       "      <th>16</th>\n",
       "      <td>2022-2023</td>\n",
       "      <td>District</td>\n",
       "      <td>5520</td>\n",
       "      <td>Kensington High School for Creative and Perfor...</td>\n",
       "      <td>76.32</td>\n",
       "      <td>19122.0</td>\n",
       "    </tr>\n",
       "  </tbody>\n",
       "</table>\n",
       "</div>"
      ],
      "text/plain": [
       "   School Year    Sector  ULCS Code  \\\n",
       "1    2022-2023  District       5020   \n",
       "11   2022-2023  District       4140   \n",
       "14   2022-2023  District       5700   \n",
       "15   2022-2023  District       4020   \n",
       "16   2022-2023  District       5520   \n",
       "\n",
       "                                          School Name  \\\n",
       "1                        Thomas A. Edison High School   \n",
       "11                     Strawberry Mansion High School   \n",
       "14                             Kensington High School   \n",
       "15                              Overbrook High School   \n",
       "16  Kensington High School for Creative and Perfor...   \n",
       "\n",
       "    Average Daily Attendance (YTD)  Zip Code  \n",
       "1                            72.64   19140.0  \n",
       "11                           75.02   19121.0  \n",
       "14                           75.40   19125.0  \n",
       "15                           76.18   19131.0  \n",
       "16                           76.32   19122.0  "
      ]
     },
     "execution_count": 7,
     "metadata": {},
     "output_type": "execute_result"
    }
   ],
   "source": [
    "filtered_df = df[df['School Year'] == '2022-2023']\n",
    "filtered_df.head()"
   ]
  },
  {
   "cell_type": "code",
   "execution_count": 8,
   "id": "3de839aa-4e68-4af0-b61a-dbbcf884e825",
   "metadata": {
    "tags": []
   },
   "outputs": [
    {
     "name": "stdout",
     "output_type": "stream",
     "text": [
      "float64\n"
     ]
    }
   ],
   "source": [
    "print(filtered_df['Average Daily Attendance (YTD)'].dtype)"
   ]
  },
  {
   "cell_type": "code",
   "execution_count": 9,
   "id": "8ed81648-d653-47b1-bc04-ff2d577f9132",
   "metadata": {
    "tags": []
   },
   "outputs": [],
   "source": [
    "average_by_zipcode = df.groupby('Zip Code')['Average Daily Attendance (YTD)'].mean()"
   ]
  },
  {
   "cell_type": "code",
   "execution_count": 10,
   "id": "4df7c7f8-413d-4e71-860b-32451d33eed4",
   "metadata": {
    "tags": []
   },
   "outputs": [
    {
     "name": "stdout",
     "output_type": "stream",
     "text": [
      "Zip Code\n",
      "19103.0    95.230000\n",
      "19104.0    90.681429\n",
      "19106.0    91.840000\n",
      "19111.0    90.561667\n",
      "19114.0    91.030000\n",
      "19115.0    94.153333\n",
      "19116.0    91.850000\n",
      "19118.0    91.960000\n",
      "19119.0    91.943333\n",
      "19120.0    89.926364\n",
      "19121.0    84.866000\n",
      "19122.0    84.828571\n",
      "19123.0    90.830000\n",
      "19124.0    85.882500\n",
      "19125.0    86.417143\n",
      "19126.0    89.100000\n",
      "19127.0    92.670000\n",
      "19128.0    89.481667\n",
      "19129.0    85.885000\n",
      "19130.0    89.196667\n",
      "19131.0    86.122000\n",
      "19132.0    83.658000\n",
      "19133.0    86.525000\n",
      "19134.0    86.896250\n",
      "19135.0    88.850000\n",
      "19136.0    87.900000\n",
      "19137.0    89.750000\n",
      "19138.0    88.404000\n",
      "19139.0    86.703000\n",
      "19140.0    85.455455\n",
      "19141.0    90.887143\n",
      "19142.0    87.708000\n",
      "19143.0    86.330000\n",
      "19144.0    87.487500\n",
      "19145.0    88.732500\n",
      "19146.0    90.990000\n",
      "19147.0    94.172857\n",
      "19148.0    89.253750\n",
      "19149.0    90.628000\n",
      "19150.0    90.923333\n",
      "19151.0    88.745000\n",
      "19152.0    90.527500\n",
      "19153.0    86.070000\n",
      "19154.0    91.413333\n",
      "Name: Average Daily Attendance (YTD), dtype: float64\n"
     ]
    }
   ],
   "source": [
    "print(average_by_zipcode)"
   ]
  },
  {
   "cell_type": "code",
   "execution_count": 11,
   "id": "4d2ed704-ae38-4684-b0bf-22a19fe7a6a4",
   "metadata": {
    "tags": []
   },
   "outputs": [
    {
     "data": {
      "text/plain": [
       "Zip Code\n",
       "19132.0    83.658000\n",
       "19122.0    84.828571\n",
       "19121.0    84.866000\n",
       "19140.0    85.455455\n",
       "19124.0    85.882500\n",
       "19129.0    85.885000\n",
       "19153.0    86.070000\n",
       "19131.0    86.122000\n",
       "19143.0    86.330000\n",
       "19125.0    86.417143\n",
       "19133.0    86.525000\n",
       "19139.0    86.703000\n",
       "19134.0    86.896250\n",
       "19144.0    87.487500\n",
       "19142.0    87.708000\n",
       "19136.0    87.900000\n",
       "19138.0    88.404000\n",
       "19145.0    88.732500\n",
       "19151.0    88.745000\n",
       "19135.0    88.850000\n",
       "19126.0    89.100000\n",
       "19130.0    89.196667\n",
       "19148.0    89.253750\n",
       "19128.0    89.481667\n",
       "19137.0    89.750000\n",
       "19120.0    89.926364\n",
       "19152.0    90.527500\n",
       "19111.0    90.561667\n",
       "19149.0    90.628000\n",
       "19104.0    90.681429\n",
       "19123.0    90.830000\n",
       "19141.0    90.887143\n",
       "19150.0    90.923333\n",
       "19146.0    90.990000\n",
       "19114.0    91.030000\n",
       "19154.0    91.413333\n",
       "19106.0    91.840000\n",
       "19116.0    91.850000\n",
       "19119.0    91.943333\n",
       "19118.0    91.960000\n",
       "19127.0    92.670000\n",
       "19115.0    94.153333\n",
       "19147.0    94.172857\n",
       "19103.0    95.230000\n",
       "Name: Average Daily Attendance (YTD), dtype: float64"
      ]
     },
     "execution_count": 11,
     "metadata": {},
     "output_type": "execute_result"
    }
   ],
   "source": [
    "sorted_average_by_zipcode = average_by_zipcode.sort_values()\n",
    "sorted_average_by_zipcode"
   ]
  },
  {
   "cell_type": "code",
   "execution_count": 12,
   "id": "72ab9462-5fb9-4f6d-8a91-70319bcba5c3",
   "metadata": {
    "tags": []
   },
   "outputs": [
    {
     "name": "stdout",
     "output_type": "stream",
     "text": [
      "Defaulting to user installation because normal site-packages is not writeable\n",
      "Collecting seaborn\n",
      "  Downloading seaborn-0.13.2-py3-none-any.whl.metadata (5.4 kB)\n",
      "Requirement already satisfied: numpy!=1.24.0,>=1.20 in /home/jupyter-user-6/.local/lib/python3.10/site-packages (from seaborn) (1.26.4)\n",
      "Requirement already satisfied: pandas>=1.2 in /home/jupyter-user-6/.local/lib/python3.10/site-packages (from seaborn) (2.2.2)\n",
      "Requirement already satisfied: matplotlib!=3.6.1,>=3.4 in /opt/tljh/user/lib/python3.10/site-packages (from seaborn) (3.8.1)\n",
      "Requirement already satisfied: contourpy>=1.0.1 in /opt/tljh/user/lib/python3.10/site-packages (from matplotlib!=3.6.1,>=3.4->seaborn) (1.1.1)\n",
      "Requirement already satisfied: cycler>=0.10 in /opt/tljh/user/lib/python3.10/site-packages (from matplotlib!=3.6.1,>=3.4->seaborn) (0.12.1)\n",
      "Requirement already satisfied: fonttools>=4.22.0 in /opt/tljh/user/lib/python3.10/site-packages (from matplotlib!=3.6.1,>=3.4->seaborn) (4.43.1)\n",
      "Requirement already satisfied: kiwisolver>=1.3.1 in /opt/tljh/user/lib/python3.10/site-packages (from matplotlib!=3.6.1,>=3.4->seaborn) (1.4.5)\n",
      "Requirement already satisfied: packaging>=20.0 in /opt/tljh/user/lib/python3.10/site-packages (from matplotlib!=3.6.1,>=3.4->seaborn) (23.2)\n",
      "Requirement already satisfied: pillow>=8 in /opt/tljh/user/lib/python3.10/site-packages (from matplotlib!=3.6.1,>=3.4->seaborn) (10.1.0)\n",
      "Requirement already satisfied: pyparsing>=2.3.1 in /opt/tljh/user/lib/python3.10/site-packages (from matplotlib!=3.6.1,>=3.4->seaborn) (3.1.1)\n",
      "Requirement already satisfied: python-dateutil>=2.7 in /opt/tljh/user/lib/python3.10/site-packages (from matplotlib!=3.6.1,>=3.4->seaborn) (2.8.2)\n",
      "Requirement already satisfied: pytz>=2020.1 in /opt/tljh/user/lib/python3.10/site-packages (from pandas>=1.2->seaborn) (2023.3.post1)\n",
      "Requirement already satisfied: tzdata>=2022.7 in /home/jupyter-user-6/.local/lib/python3.10/site-packages (from pandas>=1.2->seaborn) (2024.1)\n",
      "Requirement already satisfied: six>=1.5 in /opt/tljh/user/lib/python3.10/site-packages (from python-dateutil>=2.7->matplotlib!=3.6.1,>=3.4->seaborn) (1.16.0)\n",
      "Downloading seaborn-0.13.2-py3-none-any.whl (294 kB)\n",
      "\u001b[2K   \u001b[90m━━━━━━━━━━━━━━━━━━━━━━━━━━━━━━━━━━━━━━━━\u001b[0m \u001b[32m294.9/294.9 kB\u001b[0m \u001b[31m15.0 MB/s\u001b[0m eta \u001b[36m0:00:00\u001b[0m\n",
      "\u001b[?25hInstalling collected packages: seaborn\n",
      "Successfully installed seaborn-0.13.2\n"
     ]
    }
   ],
   "source": [
    "!pip install seaborn"
   ]
  },
  {
   "cell_type": "code",
   "execution_count": 17,
   "id": "1de60f28-7607-48e8-95a0-9f81c6ed13d5",
   "metadata": {
    "tags": []
   },
   "outputs": [
    {
     "ename": "AttributeError",
     "evalue": "'Series' object has no attribute 'pivot'",
     "output_type": "error",
     "traceback": [
      "\u001b[0;31m---------------------------------------------------------------------------\u001b[0m",
      "\u001b[0;31mAttributeError\u001b[0m                            Traceback (most recent call last)",
      "\u001b[0;32m/tmp/ipykernel_63829/2258609920.py\u001b[0m in \u001b[0;36m?\u001b[0;34m()\u001b[0m\n\u001b[1;32m      1\u001b[0m \u001b[0;32mimport\u001b[0m \u001b[0mseaborn\u001b[0m \u001b[0;32mas\u001b[0m \u001b[0msns\u001b[0m\u001b[0;34m\u001b[0m\u001b[0;34m\u001b[0m\u001b[0m\n\u001b[1;32m      2\u001b[0m \u001b[0;34m\u001b[0m\u001b[0m\n\u001b[0;32m----> 3\u001b[0;31m \u001b[0mpivot_table\u001b[0m \u001b[0;34m=\u001b[0m \u001b[0msorted_average_by_zipcode\u001b[0m\u001b[0;34m.\u001b[0m\u001b[0mpivot\u001b[0m\u001b[0;34m(\u001b[0m\u001b[0mindex\u001b[0m\u001b[0;34m=\u001b[0m\u001b[0;34m'Zip Code'\u001b[0m\u001b[0;34m,\u001b[0m \u001b[0mcolumns\u001b[0m\u001b[0;34m=\u001b[0m\u001b[0;34m'School Year'\u001b[0m\u001b[0;34m,\u001b[0m \u001b[0mvalues\u001b[0m\u001b[0;34m=\u001b[0m\u001b[0;34m'Average Daily Attendance (YTD)'\u001b[0m\u001b[0;34m)\u001b[0m\u001b[0;34m\u001b[0m\u001b[0;34m\u001b[0m\u001b[0m\n\u001b[0m\u001b[1;32m      4\u001b[0m \u001b[0;34m\u001b[0m\u001b[0m\n\u001b[1;32m      5\u001b[0m \u001b[0mplt\u001b[0m\u001b[0;34m.\u001b[0m\u001b[0mfigure\u001b[0m\u001b[0;34m(\u001b[0m\u001b[0mfigsize\u001b[0m\u001b[0;34m=\u001b[0m\u001b[0;34m(\u001b[0m\u001b[0;36m10\u001b[0m\u001b[0;34m,\u001b[0m \u001b[0;36m8\u001b[0m\u001b[0;34m)\u001b[0m\u001b[0;34m)\u001b[0m\u001b[0;34m\u001b[0m\u001b[0;34m\u001b[0m\u001b[0m\n\u001b[1;32m      6\u001b[0m \u001b[0msns\u001b[0m\u001b[0;34m.\u001b[0m\u001b[0mheatmap\u001b[0m\u001b[0;34m(\u001b[0m\u001b[0mpivot_table\u001b[0m\u001b[0;34m,\u001b[0m \u001b[0mannot\u001b[0m\u001b[0;34m=\u001b[0m\u001b[0;32mTrue\u001b[0m\u001b[0;34m,\u001b[0m \u001b[0mfmt\u001b[0m\u001b[0;34m=\u001b[0m\u001b[0;34m\".1f\"\u001b[0m\u001b[0;34m,\u001b[0m \u001b[0mcmap\u001b[0m\u001b[0;34m=\u001b[0m\u001b[0;34m'coolwarm'\u001b[0m\u001b[0;34m)\u001b[0m\u001b[0;34m\u001b[0m\u001b[0;34m\u001b[0m\u001b[0m\n",
      "\u001b[0;32m~/.local/lib/python3.10/site-packages/pandas/core/generic.py\u001b[0m in \u001b[0;36m?\u001b[0;34m(self, name)\u001b[0m\n\u001b[1;32m   6295\u001b[0m             \u001b[0;32mand\u001b[0m \u001b[0mname\u001b[0m \u001b[0;32mnot\u001b[0m \u001b[0;32min\u001b[0m \u001b[0mself\u001b[0m\u001b[0;34m.\u001b[0m\u001b[0m_accessors\u001b[0m\u001b[0;34m\u001b[0m\u001b[0;34m\u001b[0m\u001b[0m\n\u001b[1;32m   6296\u001b[0m             \u001b[0;32mand\u001b[0m \u001b[0mself\u001b[0m\u001b[0;34m.\u001b[0m\u001b[0m_info_axis\u001b[0m\u001b[0;34m.\u001b[0m\u001b[0m_can_hold_identifiers_and_holds_name\u001b[0m\u001b[0;34m(\u001b[0m\u001b[0mname\u001b[0m\u001b[0;34m)\u001b[0m\u001b[0;34m\u001b[0m\u001b[0;34m\u001b[0m\u001b[0m\n\u001b[1;32m   6297\u001b[0m         ):\n\u001b[1;32m   6298\u001b[0m             \u001b[0;32mreturn\u001b[0m \u001b[0mself\u001b[0m\u001b[0;34m[\u001b[0m\u001b[0mname\u001b[0m\u001b[0;34m]\u001b[0m\u001b[0;34m\u001b[0m\u001b[0;34m\u001b[0m\u001b[0m\n\u001b[0;32m-> 6299\u001b[0;31m         \u001b[0;32mreturn\u001b[0m \u001b[0mobject\u001b[0m\u001b[0;34m.\u001b[0m\u001b[0m__getattribute__\u001b[0m\u001b[0;34m(\u001b[0m\u001b[0mself\u001b[0m\u001b[0;34m,\u001b[0m \u001b[0mname\u001b[0m\u001b[0;34m)\u001b[0m\u001b[0;34m\u001b[0m\u001b[0;34m\u001b[0m\u001b[0m\n\u001b[0m",
      "\u001b[0;31mAttributeError\u001b[0m: 'Series' object has no attribute 'pivot'"
     ]
    }
   ],
   "source": [
    "import seaborn as sns\n",
    "\n",
    "pivot_table = sorted_average_by_zipcode.pivot(index='Zip Code', columns='School Year', values='Average Daily Attendance (YTD)')\n",
    "\n",
    "plt.figure(figsize=(10, 8))\n",
    "sns.heatmap(pivot_table, annot=True, fmt=\".1f\", cmap='coolwarm')\n",
    "plt.title('Heatmap of Average Daily Attendance by Zip Code and School Year')\n",
    "plt.show()"
   ]
  },
  {
   "cell_type": "code",
   "execution_count": 16,
   "id": "48961d09-6006-432e-b047-a77914748afe",
   "metadata": {
    "tags": []
   },
   "outputs": [
    {
     "ename": "NameError",
     "evalue": "name 'plt' is not defined",
     "output_type": "error",
     "traceback": [
      "\u001b[0;31m---------------------------------------------------------------------------\u001b[0m",
      "\u001b[0;31mNameError\u001b[0m                                 Traceback (most recent call last)",
      "Cell \u001b[0;32mIn[16], line 1\u001b[0m\n\u001b[0;32m----> 1\u001b[0m \u001b[43mplt\u001b[49m\u001b[38;5;241m.\u001b[39mfigure(figsize\u001b[38;5;241m=\u001b[39m(\u001b[38;5;241m10\u001b[39m, \u001b[38;5;241m8\u001b[39m))\n\u001b[1;32m      2\u001b[0m plt\u001b[38;5;241m.\u001b[39mscatter(average_by_zipcode_year_df[\u001b[38;5;124m'\u001b[39m\u001b[38;5;124mZip Code\u001b[39m\u001b[38;5;124m'\u001b[39m], average_by_zipcode_year_df[\u001b[38;5;124m'\u001b[39m\u001b[38;5;124mAverage Daily Attendance (YTD)\u001b[39m\u001b[38;5;124m'\u001b[39m])\n\u001b[1;32m      3\u001b[0m plt\u001b[38;5;241m.\u001b[39mtitle(\u001b[38;5;124m'\u001b[39m\u001b[38;5;124mScatter Plot of Average Daily Attendance by Zip Code\u001b[39m\u001b[38;5;124m'\u001b[39m)\n",
      "\u001b[0;31mNameError\u001b[0m: name 'plt' is not defined"
     ]
    }
   ],
   "source": [
    "plt.figure(figsize=(10, 8))\n",
    "plt.scatter(average_by_zipcode_year_df['Zip Code'], average_by_zipcode_year_df['Average Daily Attendance (YTD)'])\n",
    "plt.title('Scatter Plot of Average Daily Attendance by Zip Code')\n",
    "plt.xlabel('Zip Code')\n",
    "plt.ylabel('Average Daily Attendance')\n",
    "plt.grid(True)\n",
    "plt.show()"
   ]
  },
  {
   "cell_type": "code",
   "execution_count": null,
   "id": "f1b60a15-8d24-4d38-a330-9c495e18c152",
   "metadata": {
    "tags": []
   },
   "outputs": [],
   "source": [
    "!pip install matplotlib"
   ]
  },
  {
   "cell_type": "code",
   "execution_count": null,
   "id": "57a31322-ea4e-40fa-ac77-15468c05e348",
   "metadata": {
    "tags": []
   },
   "outputs": [],
   "source": [
    "import matplotlib.pyplot as plt\n",
    "import numpy as np\n",
    "\n",
    "x = average_by_zipcode_year_df['Zip Code'].astype(str)  \n",
    "y = average_by_zipcode_year_df['Average Daily Attendance (YTD)']\n",
    "\n",
    "plt.figure(figsize=(12, 8))\n",
    "plt.scatter(x, y, color='blue', label='Data points')\n",
    "\n",
    "\n",
    "m, b = np.polyfit(x.astype(float), y, 1)  \n",
    "\n",
    "plt.plot(x, m*x.astype(float) + b, color='red', label='Trend line')\n",
    "\n",
    "plt.xlabel('Zip Code')\n",
    "plt.ylabel('Average Daily Attendance')\n",
    "plt.title('Scatter Plot with Linear Trend Line of Average Daily Attendance by Zip Code')\n",
    "plt.xticks(rotation=90) \n",
    "plt.legend()\n",
    "plt.grid(True)\n",
    "plt.tight_layout() \n",
    "plt.show()"
   ]
  },
  {
   "cell_type": "code",
   "execution_count": null,
   "id": "d6ab0fc4-d22e-4f66-b8bc-7827e8022399",
   "metadata": {},
   "outputs": [],
   "source": []
  }
 ],
 "metadata": {
  "kernelspec": {
   "display_name": "Python 3 (ipykernel)",
   "language": "python",
   "name": "python3"
  },
  "language_info": {
   "codemirror_mode": {
    "name": "ipython",
    "version": 3
   },
   "file_extension": ".py",
   "mimetype": "text/x-python",
   "name": "python",
   "nbconvert_exporter": "python",
   "pygments_lexer": "ipython3",
   "version": "3.10.10"
  }
 },
 "nbformat": 4,
 "nbformat_minor": 5
}
