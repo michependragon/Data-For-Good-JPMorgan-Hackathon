{
 "cells": [
  {
   "cell_type": "code",
   "execution_count": 1,
   "id": "34fccabb-5411-43b3-9f20-3b2602d9960c",
   "metadata": {
    "tags": []
   },
   "outputs": [
    {
     "name": "stdout",
     "output_type": "stream",
     "text": [
      "Defaulting to user installation because normal site-packages is not writeable\n",
      "Requirement already satisfied: pandas in /home/jupyter-user-6/.local/lib/python3.10/site-packages (2.2.2)\n",
      "Requirement already satisfied: numpy>=1.22.4 in /home/jupyter-user-6/.local/lib/python3.10/site-packages (from pandas) (1.26.4)\n",
      "Requirement already satisfied: python-dateutil>=2.8.2 in /opt/tljh/user/lib/python3.10/site-packages (from pandas) (2.8.2)\n",
      "Requirement already satisfied: pytz>=2020.1 in /opt/tljh/user/lib/python3.10/site-packages (from pandas) (2023.3.post1)\n",
      "Requirement already satisfied: tzdata>=2022.7 in /home/jupyter-user-6/.local/lib/python3.10/site-packages (from pandas) (2024.1)\n",
      "Requirement already satisfied: six>=1.5 in /opt/tljh/user/lib/python3.10/site-packages (from python-dateutil>=2.8.2->pandas) (1.16.0)\n"
     ]
    }
   ],
   "source": [
    "!pip install pandas"
   ]
  },
  {
   "cell_type": "code",
   "execution_count": 2,
   "id": "d1b98e09-617b-48d9-9db8-c3cb1c8ab047",
   "metadata": {
    "tags": []
   },
   "outputs": [],
   "source": [
    "import pandas as pd"
   ]
  },
  {
   "cell_type": "code",
   "execution_count": 3,
   "id": "d092ef42-2146-4fec-84b2-963a68a11ab3",
   "metadata": {
    "tags": []
   },
   "outputs": [],
   "source": [
    "df = pd.read_csv('/srv/data/shared_documents/Team-9/SPREE_SY2122_School_Metric_Scores_Student_Climate_Rating-2.csv', delimiter=';', on_bad_lines = 'warn')"
   ]
  },
  {
   "cell_type": "code",
   "execution_count": 4,
   "id": "22f64391-d332-433d-be8b-e98d379ab159",
   "metadata": {
    "tags": []
   },
   "outputs": [
    {
     "data": {
      "text/html": [
       "<div>\n",
       "<style scoped>\n",
       "    .dataframe tbody tr th:only-of-type {\n",
       "        vertical-align: middle;\n",
       "    }\n",
       "\n",
       "    .dataframe tbody tr th {\n",
       "        vertical-align: top;\n",
       "    }\n",
       "\n",
       "    .dataframe thead th {\n",
       "        text-align: right;\n",
       "    }\n",
       "</style>\n",
       "<table border=\"1\" class=\"dataframe\">\n",
       "  <thead>\n",
       "    <tr style=\"text-align: right;\">\n",
       "      <th></th>\n",
       "      <th>ULCS Code</th>\n",
       "      <th>school_name</th>\n",
       "      <th>accountability_year</th>\n",
       "      <th>report_type</th>\n",
       "      <th>metric</th>\n",
       "      <th>numerator</th>\n",
       "      <th>denominator</th>\n",
       "      <th>metric_score</th>\n",
       "      <th>tier</th>\n",
       "      <th>Zip Code</th>\n",
       "    </tr>\n",
       "  </thead>\n",
       "  <tbody>\n",
       "    <tr>\n",
       "      <th>0</th>\n",
       "      <td>1010</td>\n",
       "      <td>John Bartram High School</td>\n",
       "      <td>2021-2022</td>\n",
       "      <td>High School</td>\n",
       "      <td>Admission Type</td>\n",
       "      <td>NaN</td>\n",
       "      <td>NaN</td>\n",
       "      <td>Neighborhood</td>\n",
       "      <td>NaN</td>\n",
       "      <td>NaN</td>\n",
       "    </tr>\n",
       "    <tr>\n",
       "      <th>1</th>\n",
       "      <td>1010</td>\n",
       "      <td>John Bartram High School</td>\n",
       "      <td>2021-2022</td>\n",
       "      <td>High School</td>\n",
       "      <td>% of Students Not Participating in AP, IB, or ...</td>\n",
       "      <td>112.0</td>\n",
       "      <td>112.0</td>\n",
       "      <td>100</td>\n",
       "      <td>NaN</td>\n",
       "      <td>NaN</td>\n",
       "    </tr>\n",
       "    <tr>\n",
       "      <th>2</th>\n",
       "      <td>1010</td>\n",
       "      <td>John Bartram High School</td>\n",
       "      <td>2021-2022</td>\n",
       "      <td>High School</td>\n",
       "      <td>% of Students Participating but Not Passing AP...</td>\n",
       "      <td>0.0</td>\n",
       "      <td>112.0</td>\n",
       "      <td>0</td>\n",
       "      <td>NaN</td>\n",
       "      <td>NaN</td>\n",
       "    </tr>\n",
       "    <tr>\n",
       "      <th>3</th>\n",
       "      <td>1010</td>\n",
       "      <td>John Bartram High School</td>\n",
       "      <td>2021-2022</td>\n",
       "      <td>High School</td>\n",
       "      <td>% of Students Meeting Standard on AP Exam, on ...</td>\n",
       "      <td>0.0</td>\n",
       "      <td>112.0</td>\n",
       "      <td>0</td>\n",
       "      <td>NaN</td>\n",
       "      <td>NaN</td>\n",
       "    </tr>\n",
       "    <tr>\n",
       "      <th>4</th>\n",
       "      <td>1010</td>\n",
       "      <td>John Bartram High School</td>\n",
       "      <td>2021-2022</td>\n",
       "      <td>High School</td>\n",
       "      <td>Disproportionality in AP, IB, and Dual Enrollm...</td>\n",
       "      <td>NaN</td>\n",
       "      <td>NaN</td>\n",
       "      <td>0,9</td>\n",
       "      <td>NaN</td>\n",
       "      <td>NaN</td>\n",
       "    </tr>\n",
       "  </tbody>\n",
       "</table>\n",
       "</div>"
      ],
      "text/plain": [
       "   ULCS Code               school_name accountability_year  report_type  \\\n",
       "0       1010  John Bartram High School           2021-2022  High School   \n",
       "1       1010  John Bartram High School           2021-2022  High School   \n",
       "2       1010  John Bartram High School           2021-2022  High School   \n",
       "3       1010  John Bartram High School           2021-2022  High School   \n",
       "4       1010  John Bartram High School           2021-2022  High School   \n",
       "\n",
       "                                              metric  numerator  denominator  \\\n",
       "0                                     Admission Type        NaN          NaN   \n",
       "1  % of Students Not Participating in AP, IB, or ...      112.0        112.0   \n",
       "2  % of Students Participating but Not Passing AP...        0.0        112.0   \n",
       "3  % of Students Meeting Standard on AP Exam, on ...        0.0        112.0   \n",
       "4  Disproportionality in AP, IB, and Dual Enrollm...        NaN          NaN   \n",
       "\n",
       "   metric_score tier  Zip Code  \n",
       "0  Neighborhood  NaN       NaN  \n",
       "1           100  NaN       NaN  \n",
       "2             0  NaN       NaN  \n",
       "3             0  NaN       NaN  \n",
       "4           0,9  NaN       NaN  "
      ]
     },
     "execution_count": 4,
     "metadata": {},
     "output_type": "execute_result"
    }
   ],
   "source": [
    "df.head()"
   ]
  },
  {
   "cell_type": "code",
   "execution_count": 5,
   "id": "db1a0b7a-45cb-41fd-bd9e-34260be1ca7c",
   "metadata": {
    "tags": []
   },
   "outputs": [
    {
     "name": "stdout",
     "output_type": "stream",
     "text": [
      "0                                       Admission Type\n",
      "1    % of Students Not Participating in AP, IB, or ...\n",
      "2    % of Students Participating but Not Passing AP...\n",
      "3    % of Students Meeting Standard on AP Exam, on ...\n",
      "4    Disproportionality in AP, IB, and Dual Enrollm...\n",
      "Name: metric, dtype: object\n",
      "object\n"
     ]
    }
   ],
   "source": [
    "print(df['metric'].head())\n",
    "print(df['metric'].dtype)"
   ]
  },
  {
   "cell_type": "code",
   "execution_count": 6,
   "id": "59109cb1-c77a-4002-899b-e4e5aa6f7058",
   "metadata": {
    "tags": []
   },
   "outputs": [
    {
     "name": "stdout",
     "output_type": "stream",
     "text": [
      "       ULCS Code                                  school_name  \\\n",
      "23          1010                     John Bartram High School   \n",
      "282         1020                West Philadelphia High School   \n",
      "541         1030                    High School of the Future   \n",
      "800         1050  Paul Robeson High School for Human Services   \n",
      "1059        1100                 William L. Sayre High School   \n",
      "...          ...                                          ...   \n",
      "81349       8420                       Stephen Decatur School   \n",
      "81608       8430                      Joseph Greenberg School   \n",
      "81867       8440                    William H. Loesche School   \n",
      "82126       8560                          The Workshop School   \n",
      "82385       8770            John Hancock Demonstration School   \n",
      "\n",
      "      accountability_year        report_type                  metric  \\\n",
      "23              2021-2022        High School  Student Climate Rating   \n",
      "282             2021-2022        High School  Student Climate Rating   \n",
      "541             2021-2022        High School  Student Climate Rating   \n",
      "800             2021-2022        High School  Student Climate Rating   \n",
      "1059            2021-2022        High School  Student Climate Rating   \n",
      "...                   ...                ...                     ...   \n",
      "81349           2021-2022         K-8 School  Student Climate Rating   \n",
      "81608           2021-2022         K-8 School  Student Climate Rating   \n",
      "81867           2021-2022  Elementary School  Student Climate Rating   \n",
      "82126           2021-2022        High School  Student Climate Rating   \n",
      "82385           2021-2022         K-8 School  Student Climate Rating   \n",
      "\n",
      "       numerator  denominator         metric_score tier  Zip Code  \n",
      "23           NaN          NaN  Insufficient Sample  NaN   19142.0  \n",
      "282          NaN          NaN                  6,8  NaN   19139.0  \n",
      "541          NaN          NaN                  6,7  NaN   19104.0  \n",
      "800          NaN          NaN                    8  NaN   19104.0  \n",
      "1059         NaN          NaN                  6,9  NaN   19139.0  \n",
      "...          ...          ...                  ...  ...       ...  \n",
      "81349        NaN          NaN                  7,2  NaN   19154.0  \n",
      "81608        NaN          NaN                  7,4  NaN   19115.0  \n",
      "81867        NaN          NaN                  7,8  NaN   19116.0  \n",
      "82126        NaN          NaN  Insufficient Sample  NaN   19139.0  \n",
      "82385        NaN          NaN                  7,3  NaN   19114.0  \n",
      "\n",
      "[319 rows x 10 columns]\n"
     ]
    }
   ],
   "source": [
    "filtered_df = df[df['metric'].str.contains('Student Climate Rating', na=False)]\n",
    "print(filtered_df)"
   ]
  },
  {
   "cell_type": "code",
   "execution_count": 7,
   "id": "c0c7cc87-13a0-4e44-aa8f-6f65ff34bfdd",
   "metadata": {
    "tags": []
   },
   "outputs": [
    {
     "data": {
      "text/html": [
       "<div>\n",
       "<style scoped>\n",
       "    .dataframe tbody tr th:only-of-type {\n",
       "        vertical-align: middle;\n",
       "    }\n",
       "\n",
       "    .dataframe tbody tr th {\n",
       "        vertical-align: top;\n",
       "    }\n",
       "\n",
       "    .dataframe thead th {\n",
       "        text-align: right;\n",
       "    }\n",
       "</style>\n",
       "<table border=\"1\" class=\"dataframe\">\n",
       "  <thead>\n",
       "    <tr style=\"text-align: right;\">\n",
       "      <th></th>\n",
       "      <th>ULCS Code</th>\n",
       "      <th>school_name</th>\n",
       "      <th>accountability_year</th>\n",
       "      <th>report_type</th>\n",
       "      <th>metric</th>\n",
       "      <th>numerator</th>\n",
       "      <th>denominator</th>\n",
       "      <th>metric_score</th>\n",
       "      <th>tier</th>\n",
       "      <th>Zip Code</th>\n",
       "    </tr>\n",
       "  </thead>\n",
       "  <tbody>\n",
       "    <tr>\n",
       "      <th>23</th>\n",
       "      <td>1010</td>\n",
       "      <td>John Bartram High School</td>\n",
       "      <td>2021-2022</td>\n",
       "      <td>High School</td>\n",
       "      <td>Student Climate Rating</td>\n",
       "      <td>NaN</td>\n",
       "      <td>NaN</td>\n",
       "      <td>Insufficient Sample</td>\n",
       "      <td>NaN</td>\n",
       "      <td>19142.0</td>\n",
       "    </tr>\n",
       "    <tr>\n",
       "      <th>282</th>\n",
       "      <td>1020</td>\n",
       "      <td>West Philadelphia High School</td>\n",
       "      <td>2021-2022</td>\n",
       "      <td>High School</td>\n",
       "      <td>Student Climate Rating</td>\n",
       "      <td>NaN</td>\n",
       "      <td>NaN</td>\n",
       "      <td>6,8</td>\n",
       "      <td>NaN</td>\n",
       "      <td>19139.0</td>\n",
       "    </tr>\n",
       "    <tr>\n",
       "      <th>541</th>\n",
       "      <td>1030</td>\n",
       "      <td>High School of the Future</td>\n",
       "      <td>2021-2022</td>\n",
       "      <td>High School</td>\n",
       "      <td>Student Climate Rating</td>\n",
       "      <td>NaN</td>\n",
       "      <td>NaN</td>\n",
       "      <td>6,7</td>\n",
       "      <td>NaN</td>\n",
       "      <td>19104.0</td>\n",
       "    </tr>\n",
       "    <tr>\n",
       "      <th>800</th>\n",
       "      <td>1050</td>\n",
       "      <td>Paul Robeson High School for Human Services</td>\n",
       "      <td>2021-2022</td>\n",
       "      <td>High School</td>\n",
       "      <td>Student Climate Rating</td>\n",
       "      <td>NaN</td>\n",
       "      <td>NaN</td>\n",
       "      <td>8</td>\n",
       "      <td>NaN</td>\n",
       "      <td>19104.0</td>\n",
       "    </tr>\n",
       "    <tr>\n",
       "      <th>1059</th>\n",
       "      <td>1100</td>\n",
       "      <td>William L. Sayre High School</td>\n",
       "      <td>2021-2022</td>\n",
       "      <td>High School</td>\n",
       "      <td>Student Climate Rating</td>\n",
       "      <td>NaN</td>\n",
       "      <td>NaN</td>\n",
       "      <td>6,9</td>\n",
       "      <td>NaN</td>\n",
       "      <td>19139.0</td>\n",
       "    </tr>\n",
       "  </tbody>\n",
       "</table>\n",
       "</div>"
      ],
      "text/plain": [
       "      ULCS Code                                  school_name  \\\n",
       "23         1010                     John Bartram High School   \n",
       "282        1020                West Philadelphia High School   \n",
       "541        1030                    High School of the Future   \n",
       "800        1050  Paul Robeson High School for Human Services   \n",
       "1059       1100                 William L. Sayre High School   \n",
       "\n",
       "     accountability_year  report_type                  metric  numerator  \\\n",
       "23             2021-2022  High School  Student Climate Rating        NaN   \n",
       "282            2021-2022  High School  Student Climate Rating        NaN   \n",
       "541            2021-2022  High School  Student Climate Rating        NaN   \n",
       "800            2021-2022  High School  Student Climate Rating        NaN   \n",
       "1059           2021-2022  High School  Student Climate Rating        NaN   \n",
       "\n",
       "      denominator         metric_score tier  Zip Code  \n",
       "23            NaN  Insufficient Sample  NaN   19142.0  \n",
       "282           NaN                  6,8  NaN   19139.0  \n",
       "541           NaN                  6,7  NaN   19104.0  \n",
       "800           NaN                    8  NaN   19104.0  \n",
       "1059          NaN                  6,9  NaN   19139.0  "
      ]
     },
     "execution_count": 7,
     "metadata": {},
     "output_type": "execute_result"
    }
   ],
   "source": [
    "filtered_df.head()"
   ]
  },
  {
   "cell_type": "code",
   "execution_count": 8,
   "id": "54511c31-3fd1-4096-bdae-990572caaf10",
   "metadata": {
    "tags": []
   },
   "outputs": [
    {
     "name": "stdout",
     "output_type": "stream",
     "text": [
      "Defaulting to user installation because normal site-packages is not writeable\n",
      "Requirement already satisfied: numpy in /home/jupyter-user-6/.local/lib/python3.10/site-packages (1.26.4)\n"
     ]
    }
   ],
   "source": [
    "!pip install numpy\n",
    "\n",
    "import numpy as np"
   ]
  },
  {
   "cell_type": "code",
   "execution_count": 9,
   "id": "6be83b5e-841c-4d8d-bf51-54da69567981",
   "metadata": {
    "tags": []
   },
   "outputs": [
    {
     "name": "stderr",
     "output_type": "stream",
     "text": [
      "/tmp/ipykernel_63962/1398405385.py:5: SettingWithCopyWarning: \n",
      "A value is trying to be set on a copy of a slice from a DataFrame.\n",
      "Try using .loc[row_indexer,col_indexer] = value instead\n",
      "\n",
      "See the caveats in the documentation: https://pandas.pydata.org/pandas-docs/stable/user_guide/indexing.html#returning-a-view-versus-a-copy\n",
      "  filtered_df['metric_score'] = filtered_df['metric_score'].astype(str).str.replace(',', '.').astype(float)\n"
     ]
    },
    {
     "data": {
      "text/html": [
       "<div>\n",
       "<style scoped>\n",
       "    .dataframe tbody tr th:only-of-type {\n",
       "        vertical-align: middle;\n",
       "    }\n",
       "\n",
       "    .dataframe tbody tr th {\n",
       "        vertical-align: top;\n",
       "    }\n",
       "\n",
       "    .dataframe thead th {\n",
       "        text-align: right;\n",
       "    }\n",
       "</style>\n",
       "<table border=\"1\" class=\"dataframe\">\n",
       "  <thead>\n",
       "    <tr style=\"text-align: right;\">\n",
       "      <th></th>\n",
       "      <th>ULCS Code</th>\n",
       "      <th>school_name</th>\n",
       "      <th>accountability_year</th>\n",
       "      <th>report_type</th>\n",
       "      <th>metric</th>\n",
       "      <th>numerator</th>\n",
       "      <th>denominator</th>\n",
       "      <th>metric_score</th>\n",
       "      <th>tier</th>\n",
       "      <th>Zip Code</th>\n",
       "    </tr>\n",
       "  </thead>\n",
       "  <tbody>\n",
       "    <tr>\n",
       "      <th>23</th>\n",
       "      <td>1010</td>\n",
       "      <td>John Bartram High School</td>\n",
       "      <td>2021-2022</td>\n",
       "      <td>High School</td>\n",
       "      <td>Student Climate Rating</td>\n",
       "      <td>NaN</td>\n",
       "      <td>NaN</td>\n",
       "      <td>NaN</td>\n",
       "      <td>NaN</td>\n",
       "      <td>19142.0</td>\n",
       "    </tr>\n",
       "    <tr>\n",
       "      <th>282</th>\n",
       "      <td>1020</td>\n",
       "      <td>West Philadelphia High School</td>\n",
       "      <td>2021-2022</td>\n",
       "      <td>High School</td>\n",
       "      <td>Student Climate Rating</td>\n",
       "      <td>NaN</td>\n",
       "      <td>NaN</td>\n",
       "      <td>6.8</td>\n",
       "      <td>NaN</td>\n",
       "      <td>19139.0</td>\n",
       "    </tr>\n",
       "    <tr>\n",
       "      <th>541</th>\n",
       "      <td>1030</td>\n",
       "      <td>High School of the Future</td>\n",
       "      <td>2021-2022</td>\n",
       "      <td>High School</td>\n",
       "      <td>Student Climate Rating</td>\n",
       "      <td>NaN</td>\n",
       "      <td>NaN</td>\n",
       "      <td>6.7</td>\n",
       "      <td>NaN</td>\n",
       "      <td>19104.0</td>\n",
       "    </tr>\n",
       "    <tr>\n",
       "      <th>800</th>\n",
       "      <td>1050</td>\n",
       "      <td>Paul Robeson High School for Human Services</td>\n",
       "      <td>2021-2022</td>\n",
       "      <td>High School</td>\n",
       "      <td>Student Climate Rating</td>\n",
       "      <td>NaN</td>\n",
       "      <td>NaN</td>\n",
       "      <td>8.0</td>\n",
       "      <td>NaN</td>\n",
       "      <td>19104.0</td>\n",
       "    </tr>\n",
       "    <tr>\n",
       "      <th>1059</th>\n",
       "      <td>1100</td>\n",
       "      <td>William L. Sayre High School</td>\n",
       "      <td>2021-2022</td>\n",
       "      <td>High School</td>\n",
       "      <td>Student Climate Rating</td>\n",
       "      <td>NaN</td>\n",
       "      <td>NaN</td>\n",
       "      <td>6.9</td>\n",
       "      <td>NaN</td>\n",
       "      <td>19139.0</td>\n",
       "    </tr>\n",
       "  </tbody>\n",
       "</table>\n",
       "</div>"
      ],
      "text/plain": [
       "      ULCS Code                                  school_name  \\\n",
       "23         1010                     John Bartram High School   \n",
       "282        1020                West Philadelphia High School   \n",
       "541        1030                    High School of the Future   \n",
       "800        1050  Paul Robeson High School for Human Services   \n",
       "1059       1100                 William L. Sayre High School   \n",
       "\n",
       "     accountability_year  report_type                  metric  numerator  \\\n",
       "23             2021-2022  High School  Student Climate Rating        NaN   \n",
       "282            2021-2022  High School  Student Climate Rating        NaN   \n",
       "541            2021-2022  High School  Student Climate Rating        NaN   \n",
       "800            2021-2022  High School  Student Climate Rating        NaN   \n",
       "1059           2021-2022  High School  Student Climate Rating        NaN   \n",
       "\n",
       "      denominator  metric_score tier  Zip Code  \n",
       "23            NaN           NaN  NaN   19142.0  \n",
       "282           NaN           6.8  NaN   19139.0  \n",
       "541           NaN           6.7  NaN   19104.0  \n",
       "800           NaN           8.0  NaN   19104.0  \n",
       "1059          NaN           6.9  NaN   19139.0  "
      ]
     },
     "execution_count": 9,
     "metadata": {},
     "output_type": "execute_result"
    }
   ],
   "source": [
    "filtered_df.loc[filtered_df['metric_score'] == 'Insufficient Sample', 'metric_score'] = np.nan\n",
    "\n",
    "filtered_df.loc[filtered_df['metric_score'] == 'Ineligible by Grades Served', 'metric_score'] = np.nan\n",
    "\n",
    "filtered_df['metric_score'] = filtered_df['metric_score'].astype(str).str.replace(',', '.').astype(float)\n",
    "\n",
    "filtered_df.head()"
   ]
  },
  {
   "cell_type": "code",
   "execution_count": 10,
   "id": "948eba05-6ed7-41c0-92d3-cf9ac246d513",
   "metadata": {
    "tags": []
   },
   "outputs": [
    {
     "data": {
      "text/plain": [
       "Zip Code\n",
       "19143.0    5.633333\n",
       "19133.0    5.914286\n",
       "19153.0    6.000000\n",
       "19144.0    6.120000\n",
       "19120.0    6.172727\n",
       "19151.0    6.220000\n",
       "19124.0    6.245455\n",
       "19140.0    6.266667\n",
       "19139.0    6.275000\n",
       "19149.0    6.300000\n",
       "19132.0    6.314286\n",
       "19141.0    6.325000\n",
       "19126.0    6.333333\n",
       "19142.0    6.340000\n",
       "19121.0    6.400000\n",
       "19122.0    6.450000\n",
       "19136.0    6.480000\n",
       "19134.0    6.542857\n",
       "19131.0    6.562500\n",
       "19150.0    6.566667\n",
       "19119.0    6.566667\n",
       "19148.0    6.600000\n",
       "19138.0    6.650000\n",
       "19154.0    6.666667\n",
       "19111.0    6.700000\n",
       "19125.0    6.744444\n",
       "19106.0    6.800000\n",
       "19135.0    6.820000\n",
       "19104.0    6.840000\n",
       "19145.0    6.855556\n",
       "19152.0    6.875000\n",
       "19118.0    6.900000\n",
       "19129.0    6.900000\n",
       "19137.0    6.933333\n",
       "19146.0    6.980000\n",
       "19123.0    7.000000\n",
       "19128.0    7.016667\n",
       "19130.0    7.033333\n",
       "19115.0    7.200000\n",
       "19147.0    7.216667\n",
       "19114.0    7.300000\n",
       "19116.0    7.357143\n",
       "19127.0    7.800000\n",
       "19103.0    7.800000\n",
       "Name: metric_score, dtype: float64"
      ]
     },
     "execution_count": 10,
     "metadata": {},
     "output_type": "execute_result"
    }
   ],
   "source": [
    "average_metric_score = filtered_df.groupby('Zip Code')['metric_score'].mean()\n",
    "\n",
    "sorted_average_by_zipcode = average_metric_score.sort_values()\n",
    "sorted_average_by_zipcode"
   ]
  },
  {
   "cell_type": "code",
   "execution_count": 11,
   "id": "10e30170-8673-4487-874a-0c70c46f546e",
   "metadata": {},
   "outputs": [
    {
     "name": "stdout",
     "output_type": "stream",
     "text": [
      "Defaulting to user installation because normal site-packages is not writeable\n",
      "Requirement already satisfied: matplotlib in /opt/tljh/user/lib/python3.10/site-packages (3.8.1)\n",
      "Requirement already satisfied: contourpy>=1.0.1 in /opt/tljh/user/lib/python3.10/site-packages (from matplotlib) (1.1.1)\n",
      "Requirement already satisfied: cycler>=0.10 in /opt/tljh/user/lib/python3.10/site-packages (from matplotlib) (0.12.1)\n",
      "Requirement already satisfied: fonttools>=4.22.0 in /opt/tljh/user/lib/python3.10/site-packages (from matplotlib) (4.43.1)\n",
      "Requirement already satisfied: kiwisolver>=1.3.1 in /opt/tljh/user/lib/python3.10/site-packages (from matplotlib) (1.4.5)\n",
      "Requirement already satisfied: numpy<2,>=1.21 in /home/jupyter-user-6/.local/lib/python3.10/site-packages (from matplotlib) (1.26.4)\n",
      "Requirement already satisfied: packaging>=20.0 in /opt/tljh/user/lib/python3.10/site-packages (from matplotlib) (23.2)\n",
      "Requirement already satisfied: pillow>=8 in /opt/tljh/user/lib/python3.10/site-packages (from matplotlib) (10.1.0)\n",
      "Requirement already satisfied: pyparsing>=2.3.1 in /opt/tljh/user/lib/python3.10/site-packages (from matplotlib) (3.1.1)\n",
      "Requirement already satisfied: python-dateutil>=2.7 in /opt/tljh/user/lib/python3.10/site-packages (from matplotlib) (2.8.2)\n",
      "Requirement already satisfied: six>=1.5 in /opt/tljh/user/lib/python3.10/site-packages (from python-dateutil>=2.7->matplotlib) (1.16.0)\n"
     ]
    }
   ],
   "source": [
    "!pip install matplotlib\n",
    "\n",
    "import matplotlib.pyplot as plt"
   ]
  },
  {
   "cell_type": "code",
   "execution_count": 12,
   "id": "38098a65-d1cd-41ba-9539-fa552a0ee7c4",
   "metadata": {
    "tags": []
   },
   "outputs": [
    {
     "data": {
      "image/png": "[encoded data removed]",
      "text/plain": [
       "<Figure size 1200x300 with 2 Axes>"
      ]
     },
     "metadata": {},
     "output_type": "display_data"
    }
   ],
   "source": [
    "df_heatmap = sorted_average_by_zipcode.reset_index()\n",
    "\n",
    "df_heatmap.columns = ['Zip Code', 'Average Metric Score']\n",
    "\n",
    "df_heatmap['Dummy'] = 1\n",
    "\n",
    "pivot_table = df_heatmap.pivot(index='Dummy', columns='Zip Code', values='Average Metric Score')\n",
    "\n",
    "plt.figure(figsize=(12, 3))  \n",
    "plt.imshow(pivot_table, cmap='viridis', aspect='auto')  \n",
    "plt.colorbar()\n",
    "\n",
    "plt.xticks(ticks=np.arange(len(pivot_table.columns)), labels=pivot_table.columns, rotation=90)\n",
    "plt.yticks([])  \n",
    "\n",
    "plt.title('Heatmap of Average Metric Score by Zip Code')\n",
    "plt.xlabel('Zip Code')\n",
    "plt.show()"
   ]
  },
  {
   "cell_type": "code",
   "execution_count": null,
   "id": "98b27f9c-a1a8-4cff-aa64-c8fc9d8d2640",
   "metadata": {},
   "outputs": [],
   "source": []
  }
 ],
 "metadata": {
  "kernelspec": {
   "display_name": "Python 3 (ipykernel)",
   "language": "python",
   "name": "python3"
  },
  "language_info": {
   "codemirror_mode": {
    "name": "ipython",
    "version": 3
   },
   "file_extension": ".py",
   "mimetype": "text/x-python",
   "name": "python",
   "nbconvert_exporter": "python",
   "pygments_lexer": "ipython3",
   "version": "3.10.10"
  }
 },
 "nbformat": 4,
 "nbformat_minor": 5
}
